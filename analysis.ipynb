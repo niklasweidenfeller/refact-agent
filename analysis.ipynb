{
 "cells": [
  {
   "cell_type": "code",
   "execution_count": 1,
   "metadata": {},
   "outputs": [],
   "source": [
    "import os\n",
    "import json\n",
    "import pandas as pd"
   ]
  },
  {
   "cell_type": "code",
   "execution_count": 2,
   "metadata": {},
   "outputs": [
    {
     "data": {
      "text/plain": [
       "['ReFAct-ab208055-1c82-4afb-a7ed-96356bfb9c9b.json',\n",
       " 'ReFAct-f4de6a68-fc6c-48be-bba7-98ec9bc21217.json']"
      ]
     },
     "execution_count": 2,
     "metadata": {},
     "output_type": "execute_result"
    }
   ],
   "source": [
    "files = os.listdir('logs')\n",
    "log_files = [ f for f in files if f != \".gitignore\" ]\n",
    "log_files[:2]"
   ]
  },
  {
   "cell_type": "markdown",
   "metadata": {},
   "source": [
    "# Analyse the logs"
   ]
  },
  {
   "cell_type": "markdown",
   "metadata": {},
   "source": [
    "The ReFAct agent comes with a number of configuration settings:"
   ]
  },
  {
   "cell_type": "code",
   "execution_count": 11,
   "metadata": {},
   "outputs": [
    {
     "data": {
      "text/plain": [
       "['consider_cyclomatic_complexity',\n",
       " 'make_incremental_changes',\n",
       " 'use_refactoring_tricks',\n",
       " 'get_buddy_feedback',\n",
       " 'use_previous_history',\n",
       " 'make_plan',\n",
       " 'dynamic_plan',\n",
       " 'modify_specific_method',\n",
       " 'clear_error_after_n',\n",
       " 'clip_context_window']"
      ]
     },
     "execution_count": 11,
     "metadata": {},
     "output_type": "execute_result"
    }
   ],
   "source": [
    "log_file = json.load(open('logs/' + log_files[0]))\n",
    "config_settings = list(log_file['agent_settings'].keys())\n",
    "config_settings"
   ]
  },
  {
   "cell_type": "markdown",
   "metadata": {},
   "source": [
    "As a first experiment, the agent was run on a number of sample projects:"
   ]
  },
  {
   "cell_type": "code",
   "execution_count": 12,
   "metadata": {},
   "outputs": [
    {
     "data": {
      "text/plain": [
       "['js_gilded_rose',\n",
       " 'java_gilded_rose',\n",
       " 'js_json_object',\n",
       " 'java_tabula',\n",
       " 'py_yahtzee',\n",
       " 'java_tennis',\n",
       " 'java_yahtzee',\n",
       " 'py_tennis',\n",
       " 'js_trivia']"
      ]
     },
     "execution_count": 12,
     "metadata": {},
     "output_type": "execute_result"
    }
   ],
   "source": [
    "SAMPLE_PROJECTS_DIR = 'samples'\n",
    "projects = os.listdir(SAMPLE_PROJECTS_DIR)\n",
    "projects"
   ]
  },
  {
   "cell_type": "markdown",
   "metadata": {},
   "source": [
    "Each config setting was enabled exactly once, with all other config settings disabled. This was executed for each sample project, resulting in the following number of agent logs:"
   ]
  },
  {
   "cell_type": "code",
   "execution_count": 17,
   "metadata": {},
   "outputs": [
    {
     "data": {
      "text/plain": [
       "99"
      ]
     },
     "execution_count": 17,
     "metadata": {},
     "output_type": "execute_result"
    }
   ],
   "source": [
    "len(projects) * len(config_settings) + len(projects)"
   ]
  },
  {
   "cell_type": "code",
   "execution_count": 125,
   "metadata": {},
   "outputs": [
    {
     "name": "stdout",
     "output_type": "stream",
     "text": [
      "Rows, Cols: (3630, 4)\n"
     ]
    },
    {
     "data": {
      "text/html": [
       "<div>\n",
       "<style scoped>\n",
       "    .dataframe tbody tr th:only-of-type {\n",
       "        vertical-align: middle;\n",
       "    }\n",
       "\n",
       "    .dataframe tbody tr th {\n",
       "        vertical-align: top;\n",
       "    }\n",
       "\n",
       "    .dataframe thead th {\n",
       "        text-align: right;\n",
       "    }\n",
       "</style>\n",
       "<table border=\"1\" class=\"dataframe\">\n",
       "  <thead>\n",
       "    <tr style=\"text-align: right;\">\n",
       "      <th></th>\n",
       "      <th>agent_settings</th>\n",
       "      <th>execution</th>\n",
       "      <th>project</th>\n",
       "      <th>llm</th>\n",
       "    </tr>\n",
       "  </thead>\n",
       "  <tbody>\n",
       "    <tr>\n",
       "      <th>0</th>\n",
       "      <td>{'consider_cyclomatic_complexity': False, 'mak...</td>\n",
       "      <td>\\n    You are a professional software develope...</td>\n",
       "      <td>/Users/I539028/Desktop/Seminar/refactoring-lab...</td>\n",
       "      <td>gpt-4o</td>\n",
       "    </tr>\n",
       "    <tr>\n",
       "      <th>0</th>\n",
       "      <td>{'consider_cyclomatic_complexity': False, 'mak...</td>\n",
       "      <td>{'thought': 'First, I need to get an overview ...</td>\n",
       "      <td>/Users/I539028/Desktop/Seminar/refactoring-lab...</td>\n",
       "      <td>gpt-4o</td>\n",
       "    </tr>\n",
       "    <tr>\n",
       "      <th>0</th>\n",
       "      <td>{'consider_cyclomatic_complexity': False, 'mak...</td>\n",
       "      <td>{'tool': 'browse_files', 'result': 'Files: ten...</td>\n",
       "      <td>/Users/I539028/Desktop/Seminar/refactoring-lab...</td>\n",
       "      <td>gpt-4o</td>\n",
       "    </tr>\n",
       "    <tr>\n",
       "      <th>0</th>\n",
       "      <td>{'consider_cyclomatic_complexity': False, 'mak...</td>\n",
       "      <td>{'thought': 'I should start by examining the m...</td>\n",
       "      <td>/Users/I539028/Desktop/Seminar/refactoring-lab...</td>\n",
       "      <td>gpt-4o</td>\n",
       "    </tr>\n",
       "    <tr>\n",
       "      <th>0</th>\n",
       "      <td>{'consider_cyclomatic_complexity': False, 'mak...</td>\n",
       "      <td>{'tool': 'open_file', 'result': '# -*- coding:...</td>\n",
       "      <td>/Users/I539028/Desktop/Seminar/refactoring-lab...</td>\n",
       "      <td>gpt-4o</td>\n",
       "    </tr>\n",
       "  </tbody>\n",
       "</table>\n",
       "</div>"
      ],
      "text/plain": [
       "                                      agent_settings  \\\n",
       "0  {'consider_cyclomatic_complexity': False, 'mak...   \n",
       "0  {'consider_cyclomatic_complexity': False, 'mak...   \n",
       "0  {'consider_cyclomatic_complexity': False, 'mak...   \n",
       "0  {'consider_cyclomatic_complexity': False, 'mak...   \n",
       "0  {'consider_cyclomatic_complexity': False, 'mak...   \n",
       "\n",
       "                                           execution  \\\n",
       "0  \\n    You are a professional software develope...   \n",
       "0  {'thought': 'First, I need to get an overview ...   \n",
       "0  {'tool': 'browse_files', 'result': 'Files: ten...   \n",
       "0  {'thought': 'I should start by examining the m...   \n",
       "0  {'tool': 'open_file', 'result': '# -*- coding:...   \n",
       "\n",
       "                                             project     llm  \n",
       "0  /Users/I539028/Desktop/Seminar/refactoring-lab...  gpt-4o  \n",
       "0  /Users/I539028/Desktop/Seminar/refactoring-lab...  gpt-4o  \n",
       "0  /Users/I539028/Desktop/Seminar/refactoring-lab...  gpt-4o  \n",
       "0  /Users/I539028/Desktop/Seminar/refactoring-lab...  gpt-4o  \n",
       "0  /Users/I539028/Desktop/Seminar/refactoring-lab...  gpt-4o  "
      ]
     },
     "execution_count": 125,
     "metadata": {},
     "output_type": "execute_result"
    }
   ],
   "source": [
    "# First, let's load all the logs. Result is a list of dictionaries\n",
    "log_jsons = []\n",
    "for log_file in log_files:\n",
    "    with open(f\"logs/{log_file}\") as f:\n",
    "        log_jsons.append(json.load(f))\n",
    "\n",
    "# Create a dataframe from the list of dictionaries\n",
    "df = pd.DataFrame(log_jsons)\n",
    "\n",
    "# the 'execution' column is again a list of dictionaries,\n",
    "# so we need to explode\n",
    "df = df.explode(\"execution\")\n",
    "print(\"Rows, Cols:\", df.shape)\n",
    "df.head()"
   ]
  },
  {
   "cell_type": "code",
   "execution_count": 126,
   "metadata": {},
   "outputs": [
    {
     "name": "stdout",
     "output_type": "stream",
     "text": [
      "Rows, Cols: (3484, 4)\n",
      "Rows, Cols: (1677, 15)\n"
     ]
    },
    {
     "data": {
      "text/html": [
       "<div>\n",
       "<style scoped>\n",
       "    .dataframe tbody tr th:only-of-type {\n",
       "        vertical-align: middle;\n",
       "    }\n",
       "\n",
       "    .dataframe tbody tr th {\n",
       "        vertical-align: top;\n",
       "    }\n",
       "\n",
       "    .dataframe thead th {\n",
       "        text-align: right;\n",
       "    }\n",
       "</style>\n",
       "<table border=\"1\" class=\"dataframe\">\n",
       "  <thead>\n",
       "    <tr style=\"text-align: right;\">\n",
       "      <th></th>\n",
       "      <th>project</th>\n",
       "      <th>llm</th>\n",
       "      <th>agent_settings.consider_cyclomatic_complexity</th>\n",
       "      <th>agent_settings.make_incremental_changes</th>\n",
       "      <th>agent_settings.use_refactoring_tricks</th>\n",
       "      <th>agent_settings.get_buddy_feedback</th>\n",
       "      <th>agent_settings.use_previous_history</th>\n",
       "      <th>agent_settings.make_plan</th>\n",
       "      <th>agent_settings.dynamic_plan</th>\n",
       "      <th>agent_settings.modify_specific_method</th>\n",
       "      <th>agent_settings.clear_error_after_n</th>\n",
       "      <th>agent_settings.clip_context_window</th>\n",
       "      <th>execution.tool</th>\n",
       "      <th>execution.result</th>\n",
       "      <th>execution.error</th>\n",
       "    </tr>\n",
       "  </thead>\n",
       "  <tbody>\n",
       "    <tr>\n",
       "      <th>0</th>\n",
       "      <td>/Users/I539028/Desktop/Seminar/refactoring-lab...</td>\n",
       "      <td>gpt-4o</td>\n",
       "      <td>False</td>\n",
       "      <td>False</td>\n",
       "      <td>False</td>\n",
       "      <td>False</td>\n",
       "      <td>False</td>\n",
       "      <td>False</td>\n",
       "      <td>False</td>\n",
       "      <td>False</td>\n",
       "      <td>False</td>\n",
       "      <td>True</td>\n",
       "      <td>browse_files</td>\n",
       "      <td>Files: tennis.py, test_tennis.py, test_tennis_...</td>\n",
       "      <td>NaN</td>\n",
       "    </tr>\n",
       "    <tr>\n",
       "      <th>1</th>\n",
       "      <td>/Users/I539028/Desktop/Seminar/refactoring-lab...</td>\n",
       "      <td>gpt-4o</td>\n",
       "      <td>False</td>\n",
       "      <td>False</td>\n",
       "      <td>False</td>\n",
       "      <td>False</td>\n",
       "      <td>False</td>\n",
       "      <td>False</td>\n",
       "      <td>False</td>\n",
       "      <td>False</td>\n",
       "      <td>False</td>\n",
       "      <td>True</td>\n",
       "      <td>open_file</td>\n",
       "      <td># -*- coding: utf-8 -*-\\n\\nclass TennisGameDef...</td>\n",
       "      <td>NaN</td>\n",
       "    </tr>\n",
       "    <tr>\n",
       "      <th>2</th>\n",
       "      <td>/Users/I539028/Desktop/Seminar/refactoring-lab...</td>\n",
       "      <td>gpt-4o</td>\n",
       "      <td>False</td>\n",
       "      <td>False</td>\n",
       "      <td>False</td>\n",
       "      <td>False</td>\n",
       "      <td>False</td>\n",
       "      <td>False</td>\n",
       "      <td>False</td>\n",
       "      <td>False</td>\n",
       "      <td>False</td>\n",
       "      <td>True</td>\n",
       "      <td>open_file</td>\n",
       "      <td># -*- coding: utf-8 -*-\\n\\nimport pytest\\nfrom...</td>\n",
       "      <td>NaN</td>\n",
       "    </tr>\n",
       "  </tbody>\n",
       "</table>\n",
       "</div>"
      ],
      "text/plain": [
       "                                             project     llm  \\\n",
       "0  /Users/I539028/Desktop/Seminar/refactoring-lab...  gpt-4o   \n",
       "1  /Users/I539028/Desktop/Seminar/refactoring-lab...  gpt-4o   \n",
       "2  /Users/I539028/Desktop/Seminar/refactoring-lab...  gpt-4o   \n",
       "\n",
       "   agent_settings.consider_cyclomatic_complexity  \\\n",
       "0                                          False   \n",
       "1                                          False   \n",
       "2                                          False   \n",
       "\n",
       "   agent_settings.make_incremental_changes  \\\n",
       "0                                    False   \n",
       "1                                    False   \n",
       "2                                    False   \n",
       "\n",
       "   agent_settings.use_refactoring_tricks  agent_settings.get_buddy_feedback  \\\n",
       "0                                  False                              False   \n",
       "1                                  False                              False   \n",
       "2                                  False                              False   \n",
       "\n",
       "   agent_settings.use_previous_history  agent_settings.make_plan  \\\n",
       "0                                False                     False   \n",
       "1                                False                     False   \n",
       "2                                False                     False   \n",
       "\n",
       "   agent_settings.dynamic_plan  agent_settings.modify_specific_method  \\\n",
       "0                        False                                  False   \n",
       "1                        False                                  False   \n",
       "2                        False                                  False   \n",
       "\n",
       "   agent_settings.clear_error_after_n  agent_settings.clip_context_window  \\\n",
       "0                               False                                True   \n",
       "1                               False                                True   \n",
       "2                               False                                True   \n",
       "\n",
       "  execution.tool                                   execution.result  \\\n",
       "0   browse_files  Files: tennis.py, test_tennis.py, test_tennis_...   \n",
       "1      open_file  # -*- coding: utf-8 -*-\\n\\nclass TennisGameDef...   \n",
       "2      open_file  # -*- coding: utf-8 -*-\\n\\nimport pytest\\nfrom...   \n",
       "\n",
       "  execution.error  \n",
       "0             NaN  \n",
       "1             NaN  \n",
       "2             NaN  "
      ]
     },
     "execution_count": 126,
     "metadata": {},
     "output_type": "execute_result"
    }
   ],
   "source": [
    "# drop all rows where the execution doesn't parse to a dict\n",
    "\n",
    "df = df[df[\"execution\"].apply(lambda x: isinstance(x, dict))]\n",
    "print(\"Rows, Cols:\", df.shape)\n",
    "\n",
    "# drop all rows where \"tool\" key is not present in the execution dictionary\n",
    "df = df[df[\"execution\"].apply(lambda x: \"tool\" in x)]\n",
    "\n",
    "# we normalize the \"agent_settings\" column as well as the \"execution\" column,\n",
    "# which both contain dictionaries\n",
    "\n",
    "df_as_list = df.to_dict(orient=\"records\")\n",
    "df = pd.json_normalize(df_as_list)\n",
    "print(\"Rows, Cols:\", df.shape)\n",
    "\n",
    "df.head(3)"
   ]
  },
  {
   "cell_type": "markdown",
   "metadata": {},
   "source": [
    "Now that we've arranged our data, it's time to analyze it. Let's start with the number of commits as a first metric."
   ]
  },
  {
   "cell_type": "code",
   "execution_count": 128,
   "metadata": {},
   "outputs": [
    {
     "data": {
      "text/html": [
       "<div>\n",
       "<style scoped>\n",
       "    .dataframe tbody tr th:only-of-type {\n",
       "        vertical-align: middle;\n",
       "    }\n",
       "\n",
       "    .dataframe tbody tr th {\n",
       "        vertical-align: top;\n",
       "    }\n",
       "\n",
       "    .dataframe thead th {\n",
       "        text-align: right;\n",
       "    }\n",
       "</style>\n",
       "<table border=\"1\" class=\"dataframe\">\n",
       "  <thead>\n",
       "    <tr style=\"text-align: right;\">\n",
       "      <th></th>\n",
       "      <th>execution.tool</th>\n",
       "      <th>project</th>\n",
       "    </tr>\n",
       "  </thead>\n",
       "  <tbody>\n",
       "    <tr>\n",
       "      <th>count</th>\n",
       "      <td>215</td>\n",
       "      <td>215</td>\n",
       "    </tr>\n",
       "    <tr>\n",
       "      <th>unique</th>\n",
       "      <td>1</td>\n",
       "      <td>9</td>\n",
       "    </tr>\n",
       "    <tr>\n",
       "      <th>top</th>\n",
       "      <td>commit_changes</td>\n",
       "      <td>/Users/I539028/Desktop/Seminar/refactoring-lab...</td>\n",
       "    </tr>\n",
       "    <tr>\n",
       "      <th>freq</th>\n",
       "      <td>215</td>\n",
       "      <td>37</td>\n",
       "    </tr>\n",
       "  </tbody>\n",
       "</table>\n",
       "</div>"
      ],
      "text/plain": [
       "        execution.tool                                            project\n",
       "count              215                                                215\n",
       "unique               1                                                  9\n",
       "top     commit_changes  /Users/I539028/Desktop/Seminar/refactoring-lab...\n",
       "freq               215                                                 37"
      ]
     },
     "execution_count": 128,
     "metadata": {},
     "output_type": "execute_result"
    }
   ],
   "source": [
    "# select all columns where the execution.tool is \"commit_changes\"\n",
    "df = df[df[\"execution.tool\"] == \"commit_changes\"]\n",
    "df[[\"execution.tool\", \"project\"]].describe()"
   ]
  },
  {
   "cell_type": "code",
   "execution_count": 133,
   "metadata": {},
   "outputs": [
    {
     "data": {
      "text/html": [
       "<div>\n",
       "<style scoped>\n",
       "    .dataframe tbody tr th:only-of-type {\n",
       "        vertical-align: middle;\n",
       "    }\n",
       "\n",
       "    .dataframe tbody tr th {\n",
       "        vertical-align: top;\n",
       "    }\n",
       "\n",
       "    .dataframe thead th {\n",
       "        text-align: right;\n",
       "    }\n",
       "</style>\n",
       "<table border=\"1\" class=\"dataframe\">\n",
       "  <thead>\n",
       "    <tr style=\"text-align: right;\">\n",
       "      <th></th>\n",
       "      <th>project</th>\n",
       "      <th>llm</th>\n",
       "      <th>agent_settings.consider_cyclomatic_complexity</th>\n",
       "      <th>agent_settings.make_incremental_changes</th>\n",
       "      <th>agent_settings.use_refactoring_tricks</th>\n",
       "      <th>agent_settings.get_buddy_feedback</th>\n",
       "      <th>agent_settings.use_previous_history</th>\n",
       "      <th>agent_settings.make_plan</th>\n",
       "      <th>agent_settings.dynamic_plan</th>\n",
       "      <th>agent_settings.modify_specific_method</th>\n",
       "      <th>agent_settings.clear_error_after_n</th>\n",
       "      <th>agent_settings.clip_context_window</th>\n",
       "      <th>execution.tool</th>\n",
       "      <th>execution.result</th>\n",
       "      <th>execution.error</th>\n",
       "    </tr>\n",
       "  </thead>\n",
       "  <tbody>\n",
       "    <tr>\n",
       "      <th>42</th>\n",
       "      <td>/Users/I539028/Desktop/Seminar/refactoring-lab...</td>\n",
       "      <td>gpt-4o</td>\n",
       "      <td>False</td>\n",
       "      <td>False</td>\n",
       "      <td>False</td>\n",
       "      <td>False</td>\n",
       "      <td>False</td>\n",
       "      <td>False</td>\n",
       "      <td>False</td>\n",
       "      <td>False</td>\n",
       "      <td>False</td>\n",
       "      <td>False</td>\n",
       "      <td>commit_changes</td>\n",
       "      <td>Changes committed.</td>\n",
       "      <td>NaN</td>\n",
       "    </tr>\n",
       "    <tr>\n",
       "      <th>248</th>\n",
       "      <td>/Users/I539028/Desktop/Seminar/refactoring-lab...</td>\n",
       "      <td>gpt-4o</td>\n",
       "      <td>False</td>\n",
       "      <td>False</td>\n",
       "      <td>False</td>\n",
       "      <td>False</td>\n",
       "      <td>False</td>\n",
       "      <td>False</td>\n",
       "      <td>False</td>\n",
       "      <td>False</td>\n",
       "      <td>False</td>\n",
       "      <td>False</td>\n",
       "      <td>commit_changes</td>\n",
       "      <td>Changes committed.</td>\n",
       "      <td>NaN</td>\n",
       "    </tr>\n",
       "    <tr>\n",
       "      <th>370</th>\n",
       "      <td>/Users/I539028/Desktop/Seminar/refactoring-lab...</td>\n",
       "      <td>gpt-4o</td>\n",
       "      <td>False</td>\n",
       "      <td>False</td>\n",
       "      <td>False</td>\n",
       "      <td>False</td>\n",
       "      <td>False</td>\n",
       "      <td>False</td>\n",
       "      <td>False</td>\n",
       "      <td>False</td>\n",
       "      <td>False</td>\n",
       "      <td>False</td>\n",
       "      <td>commit_changes</td>\n",
       "      <td>No changes to commit for file src/main/java/Ya...</td>\n",
       "      <td>NaN</td>\n",
       "    </tr>\n",
       "  </tbody>\n",
       "</table>\n",
       "</div>"
      ],
      "text/plain": [
       "                                               project     llm  \\\n",
       "42   /Users/I539028/Desktop/Seminar/refactoring-lab...  gpt-4o   \n",
       "248  /Users/I539028/Desktop/Seminar/refactoring-lab...  gpt-4o   \n",
       "370  /Users/I539028/Desktop/Seminar/refactoring-lab...  gpt-4o   \n",
       "\n",
       "     agent_settings.consider_cyclomatic_complexity  \\\n",
       "42                                           False   \n",
       "248                                          False   \n",
       "370                                          False   \n",
       "\n",
       "     agent_settings.make_incremental_changes  \\\n",
       "42                                     False   \n",
       "248                                    False   \n",
       "370                                    False   \n",
       "\n",
       "     agent_settings.use_refactoring_tricks  agent_settings.get_buddy_feedback  \\\n",
       "42                                   False                              False   \n",
       "248                                  False                              False   \n",
       "370                                  False                              False   \n",
       "\n",
       "     agent_settings.use_previous_history  agent_settings.make_plan  \\\n",
       "42                                 False                     False   \n",
       "248                                False                     False   \n",
       "370                                False                     False   \n",
       "\n",
       "     agent_settings.dynamic_plan  agent_settings.modify_specific_method  \\\n",
       "42                         False                                  False   \n",
       "248                        False                                  False   \n",
       "370                        False                                  False   \n",
       "\n",
       "     agent_settings.clear_error_after_n  agent_settings.clip_context_window  \\\n",
       "42                                False                               False   \n",
       "248                               False                               False   \n",
       "370                               False                               False   \n",
       "\n",
       "     execution.tool                                   execution.result  \\\n",
       "42   commit_changes                                 Changes committed.   \n",
       "248  commit_changes                                 Changes committed.   \n",
       "370  commit_changes  No changes to commit for file src/main/java/Ya...   \n",
       "\n",
       "    execution.error  \n",
       "42              NaN  \n",
       "248             NaN  \n",
       "370             NaN  "
      ]
     },
     "execution_count": 133,
     "metadata": {},
     "output_type": "execute_result"
    }
   ],
   "source": [
    "# finde the rows where all columns that start with \"agent_settings\" are set to False\n",
    "df_all_settings_false = df[~df.filter(like=\"agent_settings\").any(axis=1)]\n",
    "df_all_settings_false.head(3)"
   ]
  },
  {
   "cell_type": "code",
   "execution_count": 134,
   "metadata": {},
   "outputs": [
    {
     "data": {
      "text/plain": [
       "18"
      ]
     },
     "execution_count": 134,
     "metadata": {},
     "output_type": "execute_result"
    }
   ],
   "source": [
    "# get the number of rows where all columns that start with \"agent_settings\" are set to False\n",
    "num_commits_all_disabled = len(df_all_settings_false)\n",
    "num_commits_all_disabled"
   ]
  },
  {
   "cell_type": "code",
   "execution_count": 135,
   "metadata": {},
   "outputs": [],
   "source": [
    "# lambda function to transform the snake_case to Upper Case With Spaces\n",
    "snake_to_upper = lambda x: x.replace(\"_\", \" \").title()"
   ]
  },
  {
   "cell_type": "code",
   "execution_count": 137,
   "metadata": {},
   "outputs": [
    {
     "data": {
      "text/html": [
       "<div>\n",
       "<style scoped>\n",
       "    .dataframe tbody tr th:only-of-type {\n",
       "        vertical-align: middle;\n",
       "    }\n",
       "\n",
       "    .dataframe tbody tr th {\n",
       "        vertical-align: top;\n",
       "    }\n",
       "\n",
       "    .dataframe thead th {\n",
       "        text-align: right;\n",
       "    }\n",
       "</style>\n",
       "<table border=\"1\" class=\"dataframe\">\n",
       "  <thead>\n",
       "    <tr style=\"text-align: right;\">\n",
       "      <th></th>\n",
       "      <th>Number of tested commits</th>\n",
       "    </tr>\n",
       "  </thead>\n",
       "  <tbody>\n",
       "    <tr>\n",
       "      <th>Consider Cyclomatic Complexity</th>\n",
       "      <td>12</td>\n",
       "    </tr>\n",
       "    <tr>\n",
       "      <th>Make Incremental Changes</th>\n",
       "      <td>14</td>\n",
       "    </tr>\n",
       "    <tr>\n",
       "      <th>Get Buddy Feedback</th>\n",
       "      <td>15</td>\n",
       "    </tr>\n",
       "    <tr>\n",
       "      <th>Use Previous History</th>\n",
       "      <td>17</td>\n",
       "    </tr>\n",
       "    <tr>\n",
       "      <th>No Settings Enabled</th>\n",
       "      <td>18</td>\n",
       "    </tr>\n",
       "    <tr>\n",
       "      <th>Clip Context Window</th>\n",
       "      <td>19</td>\n",
       "    </tr>\n",
       "    <tr>\n",
       "      <th>Clear Error After N</th>\n",
       "      <td>20</td>\n",
       "    </tr>\n",
       "    <tr>\n",
       "      <th>Dynamic Plan</th>\n",
       "      <td>23</td>\n",
       "    </tr>\n",
       "    <tr>\n",
       "      <th>Use Refactoring Tricks</th>\n",
       "      <td>26</td>\n",
       "    </tr>\n",
       "    <tr>\n",
       "      <th>Modify Specific Method</th>\n",
       "      <td>33</td>\n",
       "    </tr>\n",
       "    <tr>\n",
       "      <th>Make Plan</th>\n",
       "      <td>41</td>\n",
       "    </tr>\n",
       "  </tbody>\n",
       "</table>\n",
       "</div>"
      ],
      "text/plain": [
       "                                Number of tested commits\n",
       "Consider Cyclomatic Complexity                        12\n",
       "Make Incremental Changes                              14\n",
       "Get Buddy Feedback                                    15\n",
       "Use Previous History                                  17\n",
       "No Settings Enabled                                   18\n",
       "Clip Context Window                                   19\n",
       "Clear Error After N                                   20\n",
       "Dynamic Plan                                          23\n",
       "Use Refactoring Tricks                                26\n",
       "Modify Specific Method                                33\n",
       "Make Plan                                             41"
      ]
     },
     "execution_count": 137,
     "metadata": {},
     "output_type": "execute_result"
    }
   ],
   "source": [
    "# create a new df, with a row for each agent setting and the number of commits\n",
    "df_commit_counts = pd.DataFrame()\n",
    "for agent_setting in config_settings:\n",
    "    df_commit_counts[agent_setting] = df[f\"agent_settings.{agent_setting}\"].value_counts().values\n",
    "df_commit_counts\n",
    "\n",
    "# apply the snake_to_upper function to the column names\n",
    "df_commit_counts.columns = df_commit_counts.columns.map(snake_to_upper)\n",
    "\n",
    "# transpose the dataframe, so that the agent settings are the columns\n",
    "df_commit_counts = df_commit_counts.T\n",
    "\n",
    "# drop the first column, since the second column is the number of commits\n",
    "df_commit_counts = df_commit_counts.drop(df_commit_counts.columns[0], axis=1)\n",
    "df_commit_counts.columns = [\"Number of tested commits\"]\n",
    "\n",
    "# append a row with the number of commits where all agent settings are disabled\n",
    "df_commit_counts.loc[\"No Settings Enabled\"] = [num_commits_all_disabled]\n",
    "\n",
    "# sort ascending\n",
    "df_commit_counts = df_commit_counts.sort_values(by=\"Number of tested commits\", ascending=True)\n",
    "df_commit_counts"
   ]
  },
  {
   "cell_type": "code",
   "execution_count": 139,
   "metadata": {},
   "outputs": [
    {
     "data": {
      "text/plain": [
       "4"
      ]
     },
     "execution_count": 139,
     "metadata": {},
     "output_type": "execute_result"
    }
   ],
   "source": [
    "# get the idx of \"No Settings Enabled\"\n",
    "idx = df_commit_counts.index.get_loc(\"No Settings Enabled\")\n",
    "idx"
   ]
  },
  {
   "cell_type": "markdown",
   "metadata": {},
   "source": [
    "Below is the first set of evaluation, showing the (individually) enabled agent settings and their effect on the number of successful commits."
   ]
  },
  {
   "cell_type": "code",
   "execution_count": 141,
   "metadata": {},
   "outputs": [
    {
     "data": {
      "text/plain": [
       "<Axes: >"
      ]
     },
     "execution_count": 141,
     "metadata": {},
     "output_type": "execute_result"
    },
    {
     "data": {
      "image/png": "[encoded data removed]",
      "text/plain": [
       "<Figure size 1000x600 with 1 Axes>"
      ]
     },
     "metadata": {},
     "output_type": "display_data"
    }
   ],
   "source": [
    "# display as a histogram\n",
    "df_commit_counts.plot(kind=\"barh\", legend=False, figsize=(10, 6))"
   ]
  }
 ],
 "metadata": {
  "kernelspec": {
   "display_name": "Python 3",
   "language": "python",
   "name": "python3"
  },
  "language_info": {
   "codemirror_mode": {
    "name": "ipython",
    "version": 3
   },
   "file_extension": ".py",
   "mimetype": "text/x-python",
   "name": "python",
   "nbconvert_exporter": "python",
   "pygments_lexer": "ipython3",
   "version": "3.11.9"
  }
 },
 "nbformat": 4,
 "nbformat_minor": 2
}
